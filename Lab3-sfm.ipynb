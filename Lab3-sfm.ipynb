{
 "cells": [
  {
   "cell_type": "markdown",
   "id": "514236ee",
   "metadata": {
    "id": "514236ee"
   },
   "source": [
    "#**Lab 3: Analyzing Data in Python**\n",
    "\n",
    "# RPAD 676: Data Science for the Public Good\n",
    "\n",
    "## Author: Sachin Mitra\n",
    "## Date: 2/20/25\n",
    "\n",
    "## Instructions\n",
    "In this assignment, you will conduct your own analysis using the provided dataset. Follow the prompts in each section and write the necessary Python code to complete the tasks.\n",
    "\n",
    "**Tasks:**\n",
    "- Load and explore the dataset\n",
    "- Perform basic data cleaning (handling missing values, etc.)\n",
    "- Generate descriptive statistics\n",
    "- Create at least one meaningful visualization\n",
    "- Summarize key insights from your analysis\n",
    "\n",
    "Remember to document your thought process in markdown cells throughout the notebook."
   ]
  },
  {
   "cell_type": "code",
   "execution_count": 3,
   "id": "bbc0bcae",
   "metadata": {
    "colab": {
     "base_uri": "https://localhost:8080/",
     "height": 417
    },
    "id": "bbc0bcae",
    "outputId": "a44a56fe-f2a9-4cb7-d188-ce7da5600080"
   },
   "outputs": [
    {
     "data": {
      "text/html": [
       "<div>\n",
       "<style scoped>\n",
       "    .dataframe tbody tr th:only-of-type {\n",
       "        vertical-align: middle;\n",
       "    }\n",
       "\n",
       "    .dataframe tbody tr th {\n",
       "        vertical-align: top;\n",
       "    }\n",
       "\n",
       "    .dataframe thead th {\n",
       "        text-align: right;\n",
       "    }\n",
       "</style>\n",
       "<table border=\"1\" class=\"dataframe\">\n",
       "  <thead>\n",
       "    <tr style=\"text-align: right;\">\n",
       "      <th></th>\n",
       "      <th>user_id</th>\n",
       "      <th>TimeTaken</th>\n",
       "      <th>UserSatisfaction</th>\n",
       "      <th>Age</th>\n",
       "      <th>DisabilityStatus</th>\n",
       "      <th>DigitalLiteracy</th>\n",
       "      <th>Gender</th>\n",
       "      <th>EmploymentStatus</th>\n",
       "      <th>EducationLevel</th>\n",
       "      <th>InternetAccess</th>\n",
       "      <th>ErrorRates</th>\n",
       "      <th>RequestedHelp</th>\n",
       "      <th>SatisfactionOtherServices</th>\n",
       "      <th>WillingnessFutureUse</th>\n",
       "      <th>ReceivesSocialServices</th>\n",
       "      <th>Agency</th>\n",
       "    </tr>\n",
       "  </thead>\n",
       "  <tbody>\n",
       "    <tr>\n",
       "      <th>0</th>\n",
       "      <td>2</td>\n",
       "      <td>919</td>\n",
       "      <td>4</td>\n",
       "      <td>38</td>\n",
       "      <td>0</td>\n",
       "      <td>5</td>\n",
       "      <td>Female</td>\n",
       "      <td>Retired</td>\n",
       "      <td>Some College</td>\n",
       "      <td>Broadband</td>\n",
       "      <td>1</td>\n",
       "      <td>0</td>\n",
       "      <td>6</td>\n",
       "      <td>10</td>\n",
       "      <td>0</td>\n",
       "      <td>Department of Health and Human Services</td>\n",
       "    </tr>\n",
       "    <tr>\n",
       "      <th>1</th>\n",
       "      <td>9</td>\n",
       "      <td>759</td>\n",
       "      <td>10</td>\n",
       "      <td>78</td>\n",
       "      <td>0</td>\n",
       "      <td>5</td>\n",
       "      <td>Male</td>\n",
       "      <td>Employed</td>\n",
       "      <td>High School</td>\n",
       "      <td>Broadband</td>\n",
       "      <td>1</td>\n",
       "      <td>0</td>\n",
       "      <td>3</td>\n",
       "      <td>8</td>\n",
       "      <td>0</td>\n",
       "      <td>Department of Public Safety</td>\n",
       "    </tr>\n",
       "    <tr>\n",
       "      <th>2</th>\n",
       "      <td>13</td>\n",
       "      <td>853</td>\n",
       "      <td>8</td>\n",
       "      <td>45</td>\n",
       "      <td>0</td>\n",
       "      <td>3</td>\n",
       "      <td>Female</td>\n",
       "      <td>Unemployed</td>\n",
       "      <td>Bachelor</td>\n",
       "      <td>Broadband</td>\n",
       "      <td>2</td>\n",
       "      <td>0</td>\n",
       "      <td>6</td>\n",
       "      <td>10</td>\n",
       "      <td>0</td>\n",
       "      <td>Department of Education</td>\n",
       "    </tr>\n",
       "    <tr>\n",
       "      <th>3</th>\n",
       "      <td>15</td>\n",
       "      <td>503</td>\n",
       "      <td>4</td>\n",
       "      <td>66</td>\n",
       "      <td>0</td>\n",
       "      <td>3</td>\n",
       "      <td>Male</td>\n",
       "      <td>Student</td>\n",
       "      <td>Bachelor</td>\n",
       "      <td>Broadband</td>\n",
       "      <td>1</td>\n",
       "      <td>0</td>\n",
       "      <td>2</td>\n",
       "      <td>1</td>\n",
       "      <td>0</td>\n",
       "      <td>Department of Public Safety</td>\n",
       "    </tr>\n",
       "    <tr>\n",
       "      <th>4</th>\n",
       "      <td>25</td>\n",
       "      <td>857</td>\n",
       "      <td>7</td>\n",
       "      <td>69</td>\n",
       "      <td>0</td>\n",
       "      <td>1</td>\n",
       "      <td>Female</td>\n",
       "      <td>Employed</td>\n",
       "      <td>Some College</td>\n",
       "      <td>Mobile Data</td>\n",
       "      <td>4</td>\n",
       "      <td>0</td>\n",
       "      <td>3</td>\n",
       "      <td>1</td>\n",
       "      <td>0</td>\n",
       "      <td>Department of Education</td>\n",
       "    </tr>\n",
       "  </tbody>\n",
       "</table>\n",
       "</div>"
      ],
      "text/plain": [
       "   user_id  TimeTaken  UserSatisfaction  Age  DisabilityStatus  \\\n",
       "0        2        919                 4   38                 0   \n",
       "1        9        759                10   78                 0   \n",
       "2       13        853                 8   45                 0   \n",
       "3       15        503                 4   66                 0   \n",
       "4       25        857                 7   69                 0   \n",
       "\n",
       "   DigitalLiteracy  Gender EmploymentStatus EducationLevel InternetAccess  \\\n",
       "0                5  Female          Retired   Some College      Broadband   \n",
       "1                5    Male         Employed    High School      Broadband   \n",
       "2                3  Female       Unemployed       Bachelor      Broadband   \n",
       "3                3    Male          Student       Bachelor      Broadband   \n",
       "4                1  Female         Employed   Some College    Mobile Data   \n",
       "\n",
       "   ErrorRates  RequestedHelp  SatisfactionOtherServices  WillingnessFutureUse  \\\n",
       "0           1              0                          6                    10   \n",
       "1           1              0                          3                     8   \n",
       "2           2              0                          6                    10   \n",
       "3           1              0                          2                     1   \n",
       "4           4              0                          3                     1   \n",
       "\n",
       "   ReceivesSocialServices                                   Agency  \n",
       "0                       0  Department of Health and Human Services  \n",
       "1                       0              Department of Public Safety  \n",
       "2                       0                  Department of Education  \n",
       "3                       0              Department of Public Safety  \n",
       "4                       0                  Department of Education  "
      ]
     },
     "execution_count": 3,
     "metadata": {},
     "output_type": "execute_result"
    }
   ],
   "source": [
    "# Load necessary libraries\n",
    "import pandas as pd\n",
    "import matplotlib.pyplot as plt\n",
    "import seaborn as sns\n",
    "\n",
    "# Load the dataset (replace with actual file path)\n",
    "data = pd.read_csv('digital_services_data.csv')  # Replace with actual dataset file\n",
    "\n",
    "# Display the first few rows\n",
    "data.head()"
   ]
  },
  {
   "cell_type": "code",
   "execution_count": 4,
   "id": "1f067573",
   "metadata": {
    "colab": {
     "base_uri": "https://localhost:8080/"
    },
    "id": "1f067573",
    "outputId": "232cfd14-9ee3-4018-ec74-5fa119a3c625"
   },
   "outputs": [
    {
     "name": "stdout",
     "output_type": "stream",
     "text": [
      "<class 'pandas.core.frame.DataFrame'>\n",
      "RangeIndex: 1000 entries, 0 to 999\n",
      "Data columns (total 16 columns):\n",
      " #   Column                     Non-Null Count  Dtype \n",
      "---  ------                     --------------  ----- \n",
      " 0   user_id                    1000 non-null   int64 \n",
      " 1   TimeTaken                  1000 non-null   int64 \n",
      " 2   UserSatisfaction           1000 non-null   int64 \n",
      " 3   Age                        1000 non-null   int64 \n",
      " 4   DisabilityStatus           1000 non-null   int64 \n",
      " 5   DigitalLiteracy            1000 non-null   int64 \n",
      " 6   Gender                     1000 non-null   object\n",
      " 7   EmploymentStatus           1000 non-null   object\n",
      " 8   EducationLevel             1000 non-null   object\n",
      " 9   InternetAccess             1000 non-null   object\n",
      " 10  ErrorRates                 1000 non-null   int64 \n",
      " 11  RequestedHelp              1000 non-null   int64 \n",
      " 12  SatisfactionOtherServices  1000 non-null   int64 \n",
      " 13  WillingnessFutureUse       1000 non-null   int64 \n",
      " 14  ReceivesSocialServices     1000 non-null   int64 \n",
      " 15  Agency                     1000 non-null   object\n",
      "dtypes: int64(11), object(5)\n",
      "memory usage: 125.1+ KB\n"
     ]
    }
   ],
   "source": [
    "# Get dataset info\n",
    "data.info()"
   ]
  },
  {
   "cell_type": "markdown",
   "id": "58068f12",
   "metadata": {
    "id": "58068f12"
   },
   "source": [
    "## Descriptive Statistics\n",
    "\n",
    "Compute and interpret basic statistics for the dataset:\n",
    "- Mean, median, mode\n",
    "- Standard deviation, min, max\n",
    "- Any other relevant metrics\n",
    "\n",
    "_Write your code below:_"
   ]
  },
  {
   "cell_type": "code",
   "execution_count": 5,
   "id": "Ufd39i3uJVEA",
   "metadata": {
    "colab": {
     "base_uri": "https://localhost:8080/"
    },
    "id": "Ufd39i3uJVEA",
    "outputId": "e1dcceee-437b-4dd6-f0cc-61ae434edcc5"
   },
   "outputs": [
    {
     "name": "stdout",
     "output_type": "stream",
     "text": [
      "Descriptive Statistics for Numeric Variables:\n",
      "       user_id  TimeTaken  UserSatisfaction      Age  DisabilityStatus  \\\n",
      "count  1000.00    1000.00           1000.00  1000.00           1000.00   \n",
      "mean    500.50    1059.03              4.95    49.04              0.15   \n",
      "std     288.82     344.67              2.90    17.89              0.36   \n",
      "min       1.00       0.00              1.00    18.00              0.00   \n",
      "25%     250.75     830.50              2.00    34.00              0.00   \n",
      "50%     500.50    1064.00              5.00    50.00              0.00   \n",
      "75%     750.25    1274.00              7.00    64.00              0.00   \n",
      "max    1000.00    2136.00             10.00    79.00              1.00   \n",
      "\n",
      "       DigitalLiteracy  ErrorRates  RequestedHelp  SatisfactionOtherServices  \\\n",
      "count          1000.00     1000.00        1000.00                    1000.00   \n",
      "mean              3.05        2.39           0.29                       5.61   \n",
      "std               1.40        2.38           0.45                       2.87   \n",
      "min               1.00        0.00           0.00                       1.00   \n",
      "25%               2.00        1.00           0.00                       3.00   \n",
      "50%               3.00        2.00           0.00                       6.00   \n",
      "75%               4.00        4.00           1.00                       8.00   \n",
      "max               5.00       22.00           1.00                      10.00   \n",
      "\n",
      "       WillingnessFutureUse  ReceivesSocialServices  \n",
      "count               1000.00                 1000.00  \n",
      "mean                   5.76                    0.62  \n",
      "std                    3.05                    0.49  \n",
      "min                    1.00                    0.00  \n",
      "25%                    3.00                    0.00  \n",
      "50%                    6.00                    1.00  \n",
      "75%                    8.00                    1.00  \n",
      "max                   10.00                    1.00  \n"
     ]
    }
   ],
   "source": [
    "# Find Descriptive Statistics, Rounded\n",
    "descriptive_stats = data.describe().round(2)\n",
    "print(\"Descriptive Statistics for Numeric Variables:\")\n",
    "print(descriptive_stats)"
   ]
  },
  {
   "cell_type": "markdown",
   "id": "WK_ea4vrJ7MB",
   "metadata": {
    "id": "WK_ea4vrJ7MB"
   },
   "source": []
  },
  {
   "cell_type": "code",
   "execution_count": 6,
   "id": "cLm4KtMgL1PE",
   "metadata": {
    "colab": {
     "base_uri": "https://localhost:8080/",
     "height": 429
    },
    "id": "cLm4KtMgL1PE",
    "outputId": "0675e364-0706-4fc4-82dd-a20f406c089d"
   },
   "outputs": [
    {
     "data": {
      "text/plain": [
       "user_id                       500.5\n",
       "TimeTaken                    1064.0\n",
       "UserSatisfaction                5.0\n",
       "Age                            50.0\n",
       "DisabilityStatus                0.0\n",
       "DigitalLiteracy                 3.0\n",
       "ErrorRates                      2.0\n",
       "RequestedHelp                   0.0\n",
       "SatisfactionOtherServices       6.0\n",
       "WillingnessFutureUse            6.0\n",
       "ReceivesSocialServices          1.0\n",
       "dtype: float64"
      ]
     },
     "execution_count": 6,
     "metadata": {},
     "output_type": "execute_result"
    }
   ],
   "source": [
    "# Find the median of numeric columns\n",
    "data.median(numeric_only=True)"
   ]
  },
  {
   "cell_type": "markdown",
   "id": "SZA_rTzJMw1f",
   "metadata": {
    "id": "SZA_rTzJMw1f"
   },
   "source": [
    "##<font color='yellow'>Insight</font>\n",
    "In comparing the mean with the median, almost all numerical columns seem to have very normal distributions."
   ]
  },
  {
   "cell_type": "markdown",
   "id": "0b62a4a0",
   "metadata": {
    "id": "0b62a4a0"
   },
   "source": [
    "## Data Visualization\n",
    "\n",
    "Create at least one visualization that highlights an interesting aspect of the dataset. You may use bar plots, histograms, scatter plots, or other relevant charts.\n",
    "\n",
    "_Write your code below:_"
   ]
  },
  {
   "cell_type": "code",
   "execution_count": 7,
   "id": "9ef437d3",
   "metadata": {
    "colab": {
     "base_uri": "https://localhost:8080/",
     "height": 680
    },
    "id": "9ef437d3",
    "outputId": "42e3fbc6-5eb8-4413-a2b0-751d256214e2"
   },
   "outputs": [
    {
     "data": {
      "image/png": "[encoded data removed]",
      "text/plain": [
       "<Figure size 640x480 with 1 Axes>"
      ]
     },
     "metadata": {},
     "output_type": "display_data"
    }
   ],
   "source": [
    "# Box plot\n",
    "\n",
    "sns.boxplot(x=data['Agency'], y=data['UserSatisfaction'])\n",
    "plt.title(\"User Satisfaction by Agency\")\n",
    "plt.xticks(rotation=45)\n",
    "plt.show()"
   ]
  },
  {
   "cell_type": "markdown",
   "id": "f6g-0mXHYidW",
   "metadata": {
    "id": "f6g-0mXHYidW"
   },
   "source": [
    "##<font color='yellow'>Insight</font>\n",
    "All agencies have a pretty widely distributed sample of Satisfaction. DHHS seems to have a lower avg score than the other three agencies."
   ]
  },
  {
   "cell_type": "markdown",
   "id": "ihn5rwm4a10-",
   "metadata": {
    "id": "ihn5rwm4a10-"
   },
   "source": [
    "## Inferential Statistics\n",
    "\n",
    "### T-Tests\n",
    "Compare means across two groups using the t-test. Calculate the means, conduct the t-test, and summarize the findings and what they say about the relationship between the variables.\n",
    "\n",
    "_Write your code below:_"
   ]
  },
  {
   "cell_type": "code",
   "execution_count": 8,
   "id": "dWkoqKvObf5K",
   "metadata": {
    "colab": {
     "base_uri": "https://localhost:8080/"
    },
    "id": "dWkoqKvObf5K",
    "outputId": "80037be8-15bb-44b2-9ba0-faf99d4bf82b"
   },
   "outputs": [
    {
     "name": "stdout",
     "output_type": "stream",
     "text": [
      "\n",
      "Mean of UserSatisfaction: 4.95\n"
     ]
    }
   ],
   "source": [
    "# Calculate the mean of a continuous variable\n",
    "user_satisfaction = 'UserSatisfaction'\n",
    "avg_user_satisfaction = data[user_satisfaction].mean().round(2)\n",
    "print(f\"\\nMean of {user_satisfaction}: {avg_user_satisfaction}\")"
   ]
  },
  {
   "cell_type": "code",
   "execution_count": 9,
   "id": "m33l2g6MdUyN",
   "metadata": {
    "colab": {
     "base_uri": "https://localhost:8080/"
    },
    "id": "m33l2g6MdUyN",
    "outputId": "b0154b07-9649-4c24-825a-ea56de859b87"
   },
   "outputs": [
    {
     "name": "stdout",
     "output_type": "stream",
     "text": [
      "\n",
      "Mean of WillingnessFutureUse: 5.76\n"
     ]
    }
   ],
   "source": [
    "# Calculate the mean of a continuous variable\n",
    "future_use = 'WillingnessFutureUse'\n",
    "avg_future_use = data[future_use].mean().round(2)\n",
    "print(f\"\\nMean of {future_use}: {avg_future_use}\")"
   ]
  },
  {
   "cell_type": "code",
   "execution_count": 10,
   "id": "5MnckvzVd1k-",
   "metadata": {
    "colab": {
     "base_uri": "https://localhost:8080/"
    },
    "id": "5MnckvzVd1k-",
    "outputId": "57d93844-e6f1-4447-d57e-6d7d9c23ea84"
   },
   "outputs": [
    {
     "name": "stdout",
     "output_type": "stream",
     "text": [
      "\n",
      "Mean values of continuous variables grouped by Agency:\n",
      "                                         user_id  TimeTaken  UserSatisfaction  \\\n",
      "Agency                                                                          \n",
      "Department of Education                   497.80     902.80              5.13   \n",
      "Department of Health and Human Services   507.95    1183.80              4.70   \n",
      "Department of Housing                     472.55    1033.89              4.88   \n",
      "Department of Public Safety               521.81    1119.40              5.04   \n",
      "\n",
      "                                           Age  DisabilityStatus  \\\n",
      "Agency                                                             \n",
      "Department of Education                  48.88              0.15   \n",
      "Department of Health and Human Services  50.53              0.14   \n",
      "Department of Housing                    48.39              0.15   \n",
      "Department of Public Safety              48.53              0.17   \n",
      "\n",
      "                                         DigitalLiteracy  ErrorRates  \\\n",
      "Agency                                                                 \n",
      "Department of Education                             3.10        2.22   \n",
      "Department of Health and Human Services             2.98        2.39   \n",
      "Department of Housing                               2.99        2.46   \n",
      "Department of Public Safety                         3.12        2.47   \n",
      "\n",
      "                                         RequestedHelp  \\\n",
      "Agency                                                   \n",
      "Department of Education                           0.30   \n",
      "Department of Health and Human Services           0.28   \n",
      "Department of Housing                             0.28   \n",
      "Department of Public Safety                       0.29   \n",
      "\n",
      "                                         SatisfactionOtherServices  \\\n",
      "Agency                                                               \n",
      "Department of Education                                       5.77   \n",
      "Department of Health and Human Services                       5.56   \n",
      "Department of Housing                                         5.77   \n",
      "Department of Public Safety                                   5.35   \n",
      "\n",
      "                                         WillingnessFutureUse  \\\n",
      "Agency                                                          \n",
      "Department of Education                                  5.55   \n",
      "Department of Health and Human Services                  5.90   \n",
      "Department of Housing                                    6.09   \n",
      "Department of Public Safety                              5.56   \n",
      "\n",
      "                                         ReceivesSocialServices  \n",
      "Agency                                                           \n",
      "Department of Education                                    0.63  \n",
      "Department of Health and Human Services                    0.61  \n",
      "Department of Housing                                      0.61  \n",
      "Department of Public Safety                                0.61  \n"
     ]
    }
   ],
   "source": [
    "# Select numeric columns\n",
    "numeric_cols = data.select_dtypes (include=['number']).columns\n",
    "\n",
    "# Calculate the means of continuous variables across groups\n",
    "grouping_variable = 'Agency'\n",
    "grouped_means = data.groupby(grouping_variable)[numeric_cols].mean().round(2)\n",
    "print(f\"\\nMean values of continuous variables grouped by {grouping_variable}:\")\n",
    "print(grouped_means)"
   ]
  },
  {
   "cell_type": "code",
   "execution_count": 12,
   "id": "bfdf0f6c-b158-44b0-9d1a-9e966a91dc16",
   "metadata": {},
   "outputs": [
    {
     "name": "stdout",
     "output_type": "stream",
     "text": [
      "Collecting statsmodels\n",
      "  Downloading statsmodels-0.14.4-cp310-cp310-macosx_10_9_x86_64.whl.metadata (9.2 kB)\n",
      "Requirement already satisfied: numpy<3,>=1.22.3 in /opt/anaconda3/envs/nlp311/lib/python3.10/site-packages (from statsmodels) (1.26.4)\n",
      "Requirement already satisfied: scipy!=1.9.2,>=1.8 in /opt/anaconda3/envs/nlp311/lib/python3.10/site-packages (from statsmodels) (1.13.1)\n",
      "Requirement already satisfied: pandas!=2.1.0,>=1.4 in /opt/anaconda3/envs/nlp311/lib/python3.10/site-packages (from statsmodels) (2.2.3)\n",
      "Collecting patsy>=0.5.6 (from statsmodels)\n",
      "  Downloading patsy-1.0.1-py2.py3-none-any.whl.metadata (3.3 kB)\n",
      "Requirement already satisfied: packaging>=21.3 in /opt/anaconda3/envs/nlp311/lib/python3.10/site-packages (from statsmodels) (24.2)\n",
      "Requirement already satisfied: python-dateutil>=2.8.2 in /opt/anaconda3/envs/nlp311/lib/python3.10/site-packages (from pandas!=2.1.0,>=1.4->statsmodels) (2.9.0.post0)\n",
      "Requirement already satisfied: pytz>=2020.1 in /opt/anaconda3/envs/nlp311/lib/python3.10/site-packages (from pandas!=2.1.0,>=1.4->statsmodels) (2024.1)\n",
      "Requirement already satisfied: tzdata>=2022.7 in /opt/anaconda3/envs/nlp311/lib/python3.10/site-packages (from pandas!=2.1.0,>=1.4->statsmodels) (2025.2)\n",
      "Requirement already satisfied: six>=1.5 in /opt/anaconda3/envs/nlp311/lib/python3.10/site-packages (from python-dateutil>=2.8.2->pandas!=2.1.0,>=1.4->statsmodels) (1.17.0)\n",
      "Downloading statsmodels-0.14.4-cp310-cp310-macosx_10_9_x86_64.whl (10.2 MB)\n",
      "\u001b[2K   \u001b[90m━━━━━━━━━━━━━━━━━━━━━━━━━━━━━━━━━━━━━━━━\u001b[0m \u001b[32m10.2/10.2 MB\u001b[0m \u001b[31m37.4 MB/s\u001b[0m eta \u001b[36m0:00:00\u001b[0m \u001b[36m0:00:01\u001b[0m\n",
      "Downloading patsy-1.0.1-py2.py3-none-any.whl (232 kB)\n",
      "Installing collected packages: patsy, statsmodels\n",
      "\u001b[2K   \u001b[90m━━━━━━━━━━━━━━━━━━━━━━━━━━━━━━━━━━━━━━━━\u001b[0m \u001b[32m2/2\u001b[0m [statsmodels]\u001b[0m [statsmodels]\n",
      "\u001b[1A\u001b[2KSuccessfully installed patsy-1.0.1 statsmodels-0.14.4\n"
     ]
    }
   ],
   "source": [
    "# install statsmodels\n",
    "!pip install statsmodels"
   ]
  },
  {
   "cell_type": "code",
   "execution_count": 13,
   "id": "brTqouXMgWup",
   "metadata": {
    "id": "brTqouXMgWup"
   },
   "outputs": [],
   "source": [
    "# import library\n",
    "import scipy.stats as stats\n",
    "import statsmodels.api as sm\n",
    "import statsmodels.formula.api as smf\n",
    "from statsmodels.stats.multicomp import pairwise_tukeyhsd"
   ]
  },
  {
   "cell_type": "code",
   "execution_count": 18,
   "id": "c15bd6a0-3db9-4d03-922b-730786c541d1",
   "metadata": {},
   "outputs": [],
   "source": [
    "# Map binary genders for t-test (exclude 'Non-binary' for this test)\n",
    "data_binary = data[data['Gender'].isin(['Female', 'Male'])].copy()\n",
    "data_binary['Gender_numeric'] = data_binary['Gender'].map({'Female': 0, 'Male': 1})"
   ]
  },
  {
   "cell_type": "markdown",
   "id": "d4f42a0b-72a2-4743-bc1c-16e668c3adb3",
   "metadata": {
    "id": "tYWakQc7bc2F"
   },
   "source": [
    "### T-Test\n",
    "Compare means across two groups using the t-test. Calculate the means, conduct the t-test, and summarize the findings and what they say about the relationship between the variables.\n",
    "\n",
    "_Write your code below:_"
   ]
  },
  {
   "cell_type": "code",
   "execution_count": 22,
   "id": "2d223d37-36e0-4970-9c64-c152b30172bf",
   "metadata": {},
   "outputs": [
    {
     "name": "stdout",
     "output_type": "stream",
     "text": [
      "T-test: Effect of Gender on User Satisfaction\n",
      "t-statistic = -1.1021, p-value = 0.2707\n"
     ]
    }
   ],
   "source": [
    "# T-Test: Comparing means across two groups\n",
    "\n",
    "group_female = data_binary[data_binary['Gender_numeric'] == 0]['UserSatisfaction'].dropna()\n",
    "group_male = data_binary[data_binary['Gender_numeric'] == 1]['UserSatisfaction'].dropna()\n",
    "\n",
    "t_stat, p_val = stats.ttest_ind(group_female, group_male)\n",
    "\n",
    "print(f\"T-test: Effect of Gender on User Satisfaction\")\n",
    "print(f\"t-statistic = {t_stat:.4f}, p-value = {p_val:.4f}\")"
   ]
  },
  {
   "cell_type": "markdown",
   "id": "LZWrYunHghjT",
   "metadata": {
    "id": "LZWrYunHghjT"
   },
   "source": [
    "<font color='blue'>__Insight -__</font>\n",
    "While the t-test shows that males score slightly lower, there is no statistically significant difference meaning the difference is just aslikely due to random variation, than any real effect of gender."
   ]
  },
  {
   "cell_type": "markdown",
   "id": "tYWakQc7bc2F",
   "metadata": {
    "id": "tYWakQc7bc2F"
   },
   "source": [
    "### ANOVA\n",
    "Compare means across multiple groups using the ANOVA test. Calculate the means, conduct the t-test, and summarize the findings and what they say about the relationship between the variables.\n",
    "\n",
    "_Write your code below:_"
   ]
  },
  {
   "cell_type": "code",
   "execution_count": 23,
   "id": "5u5FkUHFbhJK",
   "metadata": {
    "colab": {
     "base_uri": "https://localhost:8080/"
    },
    "id": "5u5FkUHFbhJK",
    "outputId": "e5c65ad0-cfef-4eb6-f17a-a1da05f2054d"
   },
   "outputs": [
    {
     "name": "stdout",
     "output_type": "stream",
     "text": [
      "\n",
      "Mean of UserSatisfaction grouped by Agency:\n",
      "Agency\n",
      "Department of Education                    5.13\n",
      "Department of Health and Human Services    4.70\n",
      "Department of Housing                      4.88\n",
      "Department of Public Safety                5.04\n",
      "Name: UserSatisfaction, dtype: float64\n"
     ]
    }
   ],
   "source": [
    "# Means across more than two groups\n",
    "\n",
    "outcome_variable = 'UserSatisfaction'\n",
    "categorical_variable = 'Agency'\n",
    "\n",
    "specific_grouped_means = data.groupby(categorical_variable)[outcome_variable].mean().round(2)\n",
    "print(f\"\\nMean of {outcome_variable} grouped by {categorical_variable}:\")\n",
    "print(specific_grouped_means)"
   ]
  },
  {
   "cell_type": "code",
   "execution_count": 26,
   "id": "OUlSE5rfhJUC",
   "metadata": {
    "colab": {
     "base_uri": "https://localhost:8080/"
    },
    "id": "OUlSE5rfhJUC",
    "outputId": "bda7b6f2-a7db-4023-ae80-3719a91114be"
   },
   "outputs": [
    {
     "name": "stdout",
     "output_type": "stream",
     "text": [
      "\n",
      "ANOVA Results:\n",
      "                sum_sq     df         F    PR(>F)\n",
      "C(Agency)    25.144653    3.0  0.995716  0.394072\n",
      "Residual   8383.939347  996.0       NaN       NaN\n"
     ]
    }
   ],
   "source": [
    "# ANOVA: Comparing time taken across agency types\n",
    "\n",
    "aov = smf.ols(f'{outcome_variable} ~ C({categorical_variable})', data=data).fit()\n",
    "anova_table = sm.stats.anova_lm(aov, typ=2)\n",
    "\n",
    "print(\"\\nANOVA Results:\")\n",
    "print(anova_table)"
   ]
  },
  {
   "cell_type": "code",
   "execution_count": 27,
   "id": "7Y_7ABz_iFYc",
   "metadata": {
    "colab": {
     "base_uri": "https://localhost:8080/"
    },
    "id": "7Y_7ABz_iFYc",
    "outputId": "40e3f0bd-d8a9-4d55-b810-df7c324fc040"
   },
   "outputs": [
    {
     "name": "stdout",
     "output_type": "stream",
     "text": [
      "\n",
      "ANOVA is not significant. No post hoc test needed.\n"
     ]
    },
    {
     "name": "stderr",
     "output_type": "stream",
     "text": [
      "/var/folders/_r/13_6z2c15zz2fh0w3xvyy2qr0000gn/T/ipykernel_21987/3810532535.py:3: FutureWarning: Series.__getitem__ treating keys as positions is deprecated. In a future version, integer keys will always be treated as labels (consistent with DataFrame behavior). To access a value by position, use `ser.iloc[pos]`\n",
      "  if anova_table['PR(>F)'][0] < alpha:\n"
     ]
    }
   ],
   "source": [
    "# Conduct post hoc test (Tukey HSD) if ANOVA is significant\n",
    "alpha = 0.05\n",
    "if anova_table['PR(>F)'][0] < alpha:\n",
    "    print(\"\\nANOVA is significant. Conducting post hoc Tukey HSD test:\")\n",
    "    tukey_results = pairwise_tukeyhsd(endog=data[outcome_variable], groups=data[categorical_variable], alpha=alpha)\n",
    "    print(tukey_results)\n",
    "else:\n",
    "    print(\"\\nANOVA is not significant. No post hoc test needed.\")"
   ]
  },
  {
   "cell_type": "markdown",
   "id": "393ad963",
   "metadata": {
    "id": "393ad963"
   },
   "source": [
    "## Key Insights\n",
    "\n",
    "Summarize your findings in a short paragraph. What patterns or trends did you observe? Were there any surprises in the data? How might these insights be useful?\n",
    "\n",
    "_Write your response below:_"
   ]
  },
  {
   "cell_type": "markdown",
   "id": "zzI-W-9wiUqu",
   "metadata": {
    "id": "zzI-W-9wiUqu"
   },
   "source": [
    "The data in most numerical columns is very normally distributed. There was so statistically signifant correlations found when investigating User Satisfaction by Agency or by Gender."
   ]
  }
 ],
 "metadata": {
  "colab": {
   "provenance": []
  },
  "kernelspec": {
   "display_name": "Python 3 (ipykernel)",
   "language": "python",
   "name": "python3"
  },
  "language_info": {
   "codemirror_mode": {
    "name": "ipython",
    "version": 3
   },
   "file_extension": ".py",
   "mimetype": "text/x-python",
   "name": "python",
   "nbconvert_exporter": "python",
   "pygments_lexer": "ipython3",
   "version": "3.10.16"
  }
 },
 "nbformat": 4,
 "nbformat_minor": 5
}
